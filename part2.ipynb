{
 "cells": [
  {
   "cell_type": "code",
   "execution_count": 27,
   "outputs": [],
   "source": [
    "#run this line if you need to re-install graph data science in a fresh environment\n",
    "#!pip install graphdatascience"
   ],
   "metadata": {
    "collapsed": false
   }
  },
  {
   "cell_type": "code",
   "execution_count": 28,
   "outputs": [],
   "source": [
    "from graphdatascience import GraphDataScience"
   ],
   "metadata": {
    "collapsed": false
   }
  },
  {
   "cell_type": "code",
   "execution_count": 29,
   "id": "prospective-replica",
   "metadata": {},
   "outputs": [],
   "source": [
    "gds = GraphDataScience('bolt://3.86.239.25:7687', auth=('neo4j', 'canisters-amplifiers-bets'))"
   ]
  },
  {
   "cell_type": "code",
   "execution_count": 30,
   "id": "emerging-violin",
   "metadata": {},
   "outputs": [
    {
     "data": {
      "text/plain": "   numberOfNodes\n0           8627",
      "text/html": "<div>\n<style scoped>\n    .dataframe tbody tr th:only-of-type {\n        vertical-align: middle;\n    }\n\n    .dataframe tbody tr th {\n        vertical-align: top;\n    }\n\n    .dataframe thead th {\n        text-align: right;\n    }\n</style>\n<table border=\"1\" class=\"dataframe\">\n  <thead>\n    <tr style=\"text-align: right;\">\n      <th></th>\n      <th>numberOfNodes</th>\n    </tr>\n  </thead>\n  <tbody>\n    <tr>\n      <th>0</th>\n      <td>8627</td>\n    </tr>\n  </tbody>\n</table>\n</div>"
     },
     "execution_count": 30,
     "metadata": {},
     "output_type": "execute_result"
    }
   ],
   "source": [
    "gds.run_cypher('MATCH (n) RETURN count(n) AS numberOfNodes')"
   ]
  },
  {
   "cell_type": "code",
   "execution_count": 31,
   "id": "chicken-strain",
   "metadata": {},
   "outputs": [
    {
     "data": {
      "text/plain": "    nodeLabels  numberOfNodes\n0    [Airport]           3503\n1       [City]           3359\n2     [Region]           1527\n3    [Country]            232\n4  [Continent]              6",
      "text/html": "<div>\n<style scoped>\n    .dataframe tbody tr th:only-of-type {\n        vertical-align: middle;\n    }\n\n    .dataframe tbody tr th {\n        vertical-align: top;\n    }\n\n    .dataframe thead th {\n        text-align: right;\n    }\n</style>\n<table border=\"1\" class=\"dataframe\">\n  <thead>\n    <tr style=\"text-align: right;\">\n      <th></th>\n      <th>nodeLabels</th>\n      <th>numberOfNodes</th>\n    </tr>\n  </thead>\n  <tbody>\n    <tr>\n      <th>0</th>\n      <td>[Airport]</td>\n      <td>3503</td>\n    </tr>\n    <tr>\n      <th>1</th>\n      <td>[City]</td>\n      <td>3359</td>\n    </tr>\n    <tr>\n      <th>2</th>\n      <td>[Region]</td>\n      <td>1527</td>\n    </tr>\n    <tr>\n      <th>3</th>\n      <td>[Country]</td>\n      <td>232</td>\n    </tr>\n    <tr>\n      <th>4</th>\n      <td>[Continent]</td>\n      <td>6</td>\n    </tr>\n  </tbody>\n</table>\n</div>"
     },
     "execution_count": 31,
     "metadata": {},
     "output_type": "execute_result"
    }
   ],
   "source": [
    "gds.run_cypher('MATCH (n) RETURN labels(n) AS nodeLabels, count(n) AS numberOfNodes')"
   ]
  },
  {
   "cell_type": "code",
   "execution_count": 32,
   "id": "individual-iraqi",
   "metadata": {},
   "outputs": [
    {
     "data": {
      "text/plain": "  iata               city                                        description\n0  MTY          Monterrey     General Mariano Escobedo International Airport\n1  SJD  San José del Cabo                    Los Cabos International Airport\n2  CZM            Cozumel                      Cozumel International Airport\n3  QRO          Querétaro                 Querétaro Intercontinental Airport\n4  PVR    Puerto Vallarta  Puerto Vallarta, Licenciado Gustavo Diaz Ordaz...\n5  MID             Mérida     Licenciado Manuel Crescencio Rejon Int Airport\n6  BJX              Silao                    Del Bajio International Airport\n7  MEX        Mexico City  Mexico City, Licenciado Benito Juarez Internat...\n8  GDL        Guadalajara  Don Miguel Hidalgo Y Costilla International Ai...\n9  CUN             Cancun                       Cancun International Airport",
      "text/html": "<div>\n<style scoped>\n    .dataframe tbody tr th:only-of-type {\n        vertical-align: middle;\n    }\n\n    .dataframe tbody tr th {\n        vertical-align: top;\n    }\n\n    .dataframe thead th {\n        text-align: right;\n    }\n</style>\n<table border=\"1\" class=\"dataframe\">\n  <thead>\n    <tr style=\"text-align: right;\">\n      <th></th>\n      <th>iata</th>\n      <th>city</th>\n      <th>description</th>\n    </tr>\n  </thead>\n  <tbody>\n    <tr>\n      <th>0</th>\n      <td>MTY</td>\n      <td>Monterrey</td>\n      <td>General Mariano Escobedo International Airport</td>\n    </tr>\n    <tr>\n      <th>1</th>\n      <td>SJD</td>\n      <td>San José del Cabo</td>\n      <td>Los Cabos International Airport</td>\n    </tr>\n    <tr>\n      <th>2</th>\n      <td>CZM</td>\n      <td>Cozumel</td>\n      <td>Cozumel International Airport</td>\n    </tr>\n    <tr>\n      <th>3</th>\n      <td>QRO</td>\n      <td>Querétaro</td>\n      <td>Querétaro Intercontinental Airport</td>\n    </tr>\n    <tr>\n      <th>4</th>\n      <td>PVR</td>\n      <td>Puerto Vallarta</td>\n      <td>Puerto Vallarta, Licenciado Gustavo Diaz Ordaz...</td>\n    </tr>\n    <tr>\n      <th>5</th>\n      <td>MID</td>\n      <td>Mérida</td>\n      <td>Licenciado Manuel Crescencio Rejon Int Airport</td>\n    </tr>\n    <tr>\n      <th>6</th>\n      <td>BJX</td>\n      <td>Silao</td>\n      <td>Del Bajio International Airport</td>\n    </tr>\n    <tr>\n      <th>7</th>\n      <td>MEX</td>\n      <td>Mexico City</td>\n      <td>Mexico City, Licenciado Benito Juarez Internat...</td>\n    </tr>\n    <tr>\n      <th>8</th>\n      <td>GDL</td>\n      <td>Guadalajara</td>\n      <td>Don Miguel Hidalgo Y Costilla International Ai...</td>\n    </tr>\n    <tr>\n      <th>9</th>\n      <td>CUN</td>\n      <td>Cancun</td>\n      <td>Cancun International Airport</td>\n    </tr>\n  </tbody>\n</table>\n</div>"
     },
     "execution_count": 32,
     "metadata": {},
     "output_type": "execute_result"
    }
   ],
   "source": [
    "# Find out what routes an airport has going to a specific country\n",
    "params = {'originIata': 'ATL',\n",
    "          'destCountry': 'MX'\n",
    "         }\n",
    "\n",
    "query = \"\"\"MATCH (a1:Airport {iata: $originIata})-[:HAS_ROUTE]->(a2)-[IN_COUNTRY]->(c {code: $destCountry})\n",
    "           RETURN a2.iata AS iata, a2.city as city, a2.descr AS description\n",
    "\"\"\"\n",
    "\n",
    "gds.run_cypher(query, params=params)"
   ]
  }
 ],
 "metadata": {
  "kernelspec": {
   "display_name": "Python 3",
   "language": "python",
   "name": "python3"
  },
  "language_info": {
   "codemirror_mode": {
    "name": "ipython",
    "version": 3
   },
   "file_extension": ".py",
   "mimetype": "text/x-python",
   "name": "python",
   "nbconvert_exporter": "python",
   "pygments_lexer": "ipython3",
   "version": "3.8.10"
  }
 },
 "nbformat": 4,
 "nbformat_minor": 5
}

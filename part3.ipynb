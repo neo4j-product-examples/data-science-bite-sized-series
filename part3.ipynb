{
 "cells": [
  {
   "cell_type": "code",
   "execution_count": 30,
   "outputs": [
    {
     "name": "stdout",
     "output_type": "stream",
     "text": [
      "Requirement already satisfied: graphdatascience in /Users/zachblumenfeld/opt/anaconda3/lib/python3.9/site-packages (1.4)\r\n",
      "Requirement already satisfied: multimethod<2.0,>=1.0 in /Users/zachblumenfeld/opt/anaconda3/lib/python3.9/site-packages (from graphdatascience) (1.9)\r\n",
      "Requirement already satisfied: neo4j<6.0,>=4.4.2 in /Users/zachblumenfeld/opt/anaconda3/lib/python3.9/site-packages (from graphdatascience) (5.1.0)\r\n",
      "Requirement already satisfied: pyarrow<10.0,>=4.0 in /Users/zachblumenfeld/opt/anaconda3/lib/python3.9/site-packages (from graphdatascience) (9.0.0)\r\n",
      "Requirement already satisfied: tqdm<5.0,>=4.0 in /Users/zachblumenfeld/opt/anaconda3/lib/python3.9/site-packages (from graphdatascience) (4.64.0)\r\n",
      "Requirement already satisfied: pandas<2.0,>=1.0 in /Users/zachblumenfeld/opt/anaconda3/lib/python3.9/site-packages (from graphdatascience) (1.4.2)\r\n",
      "Requirement already satisfied: pytz in /Users/zachblumenfeld/opt/anaconda3/lib/python3.9/site-packages (from neo4j<6.0,>=4.4.2->graphdatascience) (2021.3)\r\n",
      "Requirement already satisfied: python-dateutil>=2.8.1 in /Users/zachblumenfeld/opt/anaconda3/lib/python3.9/site-packages (from pandas<2.0,>=1.0->graphdatascience) (2.8.2)\r\n",
      "Requirement already satisfied: numpy>=1.20.0 in /Users/zachblumenfeld/opt/anaconda3/lib/python3.9/site-packages (from pandas<2.0,>=1.0->graphdatascience) (1.21.5)\r\n",
      "Requirement already satisfied: six>=1.5 in /Users/zachblumenfeld/opt/anaconda3/lib/python3.9/site-packages (from python-dateutil>=2.8.1->pandas<2.0,>=1.0->graphdatascience) (1.16.0)\r\n"
     ]
    }
   ],
   "source": [
    "#run this line if you are starting in a fresh colab environment\n",
    "!pip install graphdatascience"
   ],
   "metadata": {
    "collapsed": false
   }
  },
  {
   "cell_type": "code",
   "execution_count": 31,
   "outputs": [],
   "source": [
    "from graphdatascience import GraphDataScience"
   ],
   "metadata": {
    "collapsed": false
   }
  },
  {
   "cell_type": "code",
   "execution_count": 32,
   "id": "prospective-replica",
   "metadata": {},
   "outputs": [],
   "source": [
    "gds = GraphDataScience('bolt://3.86.239.25:7687', auth=('neo4j', 'canisters-amplifiers-bets'))"
   ]
  },
  {
   "cell_type": "markdown",
   "source": [
    "## Count the nodes"
   ],
   "metadata": {
    "collapsed": false
   }
  },
  {
   "cell_type": "code",
   "execution_count": 33,
   "id": "emerging-violin",
   "metadata": {},
   "outputs": [
    {
     "data": {
      "text/plain": "   numberOfNodes\n0           8627",
      "text/html": "<div>\n<style scoped>\n    .dataframe tbody tr th:only-of-type {\n        vertical-align: middle;\n    }\n\n    .dataframe tbody tr th {\n        vertical-align: top;\n    }\n\n    .dataframe thead th {\n        text-align: right;\n    }\n</style>\n<table border=\"1\" class=\"dataframe\">\n  <thead>\n    <tr style=\"text-align: right;\">\n      <th></th>\n      <th>numberOfNodes</th>\n    </tr>\n  </thead>\n  <tbody>\n    <tr>\n      <th>0</th>\n      <td>8627</td>\n    </tr>\n  </tbody>\n</table>\n</div>"
     },
     "execution_count": 33,
     "metadata": {},
     "output_type": "execute_result"
    }
   ],
   "source": [
    "gds.run_cypher('MATCH (n) RETURN count(n) AS numberOfNodes')"
   ]
  },
  {
   "cell_type": "markdown",
   "source": [
    "## Match relationships (basic paths)"
   ],
   "metadata": {
    "collapsed": false
   }
  },
  {
   "cell_type": "code",
   "execution_count": 34,
   "outputs": [
    {
     "data": {
      "text/plain": "                                                  a1           r  \\\n0  (descr, altitude, longest, iata, city, icao, l...  (distance)   \n1  (descr, altitude, longest, iata, city, icao, l...  (distance)   \n2  (descr, altitude, longest, iata, city, icao, l...  (distance)   \n3  (descr, altitude, longest, iata, city, icao, l...  (distance)   \n4  (descr, altitude, longest, iata, city, icao, l...  (distance)   \n5  (descr, altitude, longest, iata, city, icao, l...  (distance)   \n6  (descr, altitude, longest, iata, city, icao, l...  (distance)   \n7  (descr, altitude, longest, iata, city, icao, l...  (distance)   \n8  (descr, altitude, longest, iata, city, icao, l...  (distance)   \n9  (descr, altitude, longest, iata, city, icao, l...  (distance)   \n\n                                                  a2  \n0  (altitude, descr, longest, iata, city, icao, l...  \n1  (altitude, descr, longest, iata, city, icao, l...  \n2  (altitude, descr, longest, iata, city, icao, l...  \n3  (altitude, descr, longest, iata, city, icao, l...  \n4  (altitude, descr, longest, iata, city, icao, l...  \n5  (altitude, descr, longest, iata, city, icao, l...  \n6  (descr, altitude, longest, iata, city, icao, l...  \n7  (descr, altitude, longest, iata, city, icao, l...  \n8  (descr, altitude, longest, iata, city, icao, l...  \n9  (altitude, descr, longest, iata, city, icao, l...  ",
      "text/html": "<div>\n<style scoped>\n    .dataframe tbody tr th:only-of-type {\n        vertical-align: middle;\n    }\n\n    .dataframe tbody tr th {\n        vertical-align: top;\n    }\n\n    .dataframe thead th {\n        text-align: right;\n    }\n</style>\n<table border=\"1\" class=\"dataframe\">\n  <thead>\n    <tr style=\"text-align: right;\">\n      <th></th>\n      <th>a1</th>\n      <th>r</th>\n      <th>a2</th>\n    </tr>\n  </thead>\n  <tbody>\n    <tr>\n      <th>0</th>\n      <td>(descr, altitude, longest, iata, city, icao, l...</td>\n      <td>(distance)</td>\n      <td>(altitude, descr, longest, iata, city, icao, l...</td>\n    </tr>\n    <tr>\n      <th>1</th>\n      <td>(descr, altitude, longest, iata, city, icao, l...</td>\n      <td>(distance)</td>\n      <td>(altitude, descr, longest, iata, city, icao, l...</td>\n    </tr>\n    <tr>\n      <th>2</th>\n      <td>(descr, altitude, longest, iata, city, icao, l...</td>\n      <td>(distance)</td>\n      <td>(altitude, descr, longest, iata, city, icao, l...</td>\n    </tr>\n    <tr>\n      <th>3</th>\n      <td>(descr, altitude, longest, iata, city, icao, l...</td>\n      <td>(distance)</td>\n      <td>(altitude, descr, longest, iata, city, icao, l...</td>\n    </tr>\n    <tr>\n      <th>4</th>\n      <td>(descr, altitude, longest, iata, city, icao, l...</td>\n      <td>(distance)</td>\n      <td>(altitude, descr, longest, iata, city, icao, l...</td>\n    </tr>\n    <tr>\n      <th>5</th>\n      <td>(descr, altitude, longest, iata, city, icao, l...</td>\n      <td>(distance)</td>\n      <td>(altitude, descr, longest, iata, city, icao, l...</td>\n    </tr>\n    <tr>\n      <th>6</th>\n      <td>(descr, altitude, longest, iata, city, icao, l...</td>\n      <td>(distance)</td>\n      <td>(descr, altitude, longest, iata, city, icao, l...</td>\n    </tr>\n    <tr>\n      <th>7</th>\n      <td>(descr, altitude, longest, iata, city, icao, l...</td>\n      <td>(distance)</td>\n      <td>(descr, altitude, longest, iata, city, icao, l...</td>\n    </tr>\n    <tr>\n      <th>8</th>\n      <td>(descr, altitude, longest, iata, city, icao, l...</td>\n      <td>(distance)</td>\n      <td>(descr, altitude, longest, iata, city, icao, l...</td>\n    </tr>\n    <tr>\n      <th>9</th>\n      <td>(descr, altitude, longest, iata, city, icao, l...</td>\n      <td>(distance)</td>\n      <td>(altitude, descr, longest, iata, city, icao, l...</td>\n    </tr>\n  </tbody>\n</table>\n</div>"
     },
     "execution_count": 34,
     "metadata": {},
     "output_type": "execute_result"
    }
   ],
   "source": [
    "gds.run_cypher('''\n",
    "    MATCH (a1:Airport)-[r:HAS_ROUTE]->(a2)\n",
    "    RETURN a1, r, a2\n",
    "    LIMIT 10\n",
    "''')"
   ],
   "metadata": {
    "collapsed": false
   }
  },
  {
   "cell_type": "markdown",
   "source": [
    "## Select specific properties instead"
   ],
   "metadata": {
    "collapsed": false
   }
  },
  {
   "cell_type": "code",
   "execution_count": 35,
   "outputs": [
    {
     "data": {
      "text/plain": "  originAirport  routeMiles destAirport\n0           ATL         708         MSN\n1           ATL        1936         CCS\n2           ATL         606         ORD\n3           ATL        1886         SAN\n4           ATL        1123         FAR\n5           ATL        4782         MUC\n6           ATL         670         MKE\n7           ATL        1084         MTY\n8           ATL         759         OKC\n9           ATL         143         AGS",
      "text/html": "<div>\n<style scoped>\n    .dataframe tbody tr th:only-of-type {\n        vertical-align: middle;\n    }\n\n    .dataframe tbody tr th {\n        vertical-align: top;\n    }\n\n    .dataframe thead th {\n        text-align: right;\n    }\n</style>\n<table border=\"1\" class=\"dataframe\">\n  <thead>\n    <tr style=\"text-align: right;\">\n      <th></th>\n      <th>originAirport</th>\n      <th>routeMiles</th>\n      <th>destAirport</th>\n    </tr>\n  </thead>\n  <tbody>\n    <tr>\n      <th>0</th>\n      <td>ATL</td>\n      <td>708</td>\n      <td>MSN</td>\n    </tr>\n    <tr>\n      <th>1</th>\n      <td>ATL</td>\n      <td>1936</td>\n      <td>CCS</td>\n    </tr>\n    <tr>\n      <th>2</th>\n      <td>ATL</td>\n      <td>606</td>\n      <td>ORD</td>\n    </tr>\n    <tr>\n      <th>3</th>\n      <td>ATL</td>\n      <td>1886</td>\n      <td>SAN</td>\n    </tr>\n    <tr>\n      <th>4</th>\n      <td>ATL</td>\n      <td>1123</td>\n      <td>FAR</td>\n    </tr>\n    <tr>\n      <th>5</th>\n      <td>ATL</td>\n      <td>4782</td>\n      <td>MUC</td>\n    </tr>\n    <tr>\n      <th>6</th>\n      <td>ATL</td>\n      <td>670</td>\n      <td>MKE</td>\n    </tr>\n    <tr>\n      <th>7</th>\n      <td>ATL</td>\n      <td>1084</td>\n      <td>MTY</td>\n    </tr>\n    <tr>\n      <th>8</th>\n      <td>ATL</td>\n      <td>759</td>\n      <td>OKC</td>\n    </tr>\n    <tr>\n      <th>9</th>\n      <td>ATL</td>\n      <td>143</td>\n      <td>AGS</td>\n    </tr>\n  </tbody>\n</table>\n</div>"
     },
     "execution_count": 35,
     "metadata": {},
     "output_type": "execute_result"
    }
   ],
   "source": [
    "gds.run_cypher('''\n",
    "    MATCH (a1:Airport)-[r:HAS_ROUTE]->(a2)\n",
    "    RETURN a1.iata AS originAirport, r.distance AS routeMiles, a2.iata AS destAirport\n",
    "    LIMIT 10\n",
    "''')"
   ],
   "metadata": {
    "collapsed": false
   }
  },
  {
   "cell_type": "markdown",
   "source": [
    "## Match given node property"
   ],
   "metadata": {
    "collapsed": false
   }
  },
  {
   "cell_type": "code",
   "execution_count": 36,
   "outputs": [
    {
     "data": {
      "text/plain": "  originCity  routeMiles   destCity\n0     Dallas        8574     Sydney\n1     Dallas        8105  Hong Kong\n2     Dallas        8053  Abu Dhabi\n3     Dallas        8022      Dubai\n4     Dallas        7914       Doha\n5     Dallas        7332   Shanghai\n6     Dallas        6951    Beijing\n7     Dallas        6822      Seoul\n8     Dallas        6410      Tokyo\n9     Dallas        5597       Rome",
      "text/html": "<div>\n<style scoped>\n    .dataframe tbody tr th:only-of-type {\n        vertical-align: middle;\n    }\n\n    .dataframe tbody tr th {\n        vertical-align: top;\n    }\n\n    .dataframe thead th {\n        text-align: right;\n    }\n</style>\n<table border=\"1\" class=\"dataframe\">\n  <thead>\n    <tr style=\"text-align: right;\">\n      <th></th>\n      <th>originCity</th>\n      <th>routeMiles</th>\n      <th>destCity</th>\n    </tr>\n  </thead>\n  <tbody>\n    <tr>\n      <th>0</th>\n      <td>Dallas</td>\n      <td>8574</td>\n      <td>Sydney</td>\n    </tr>\n    <tr>\n      <th>1</th>\n      <td>Dallas</td>\n      <td>8105</td>\n      <td>Hong Kong</td>\n    </tr>\n    <tr>\n      <th>2</th>\n      <td>Dallas</td>\n      <td>8053</td>\n      <td>Abu Dhabi</td>\n    </tr>\n    <tr>\n      <th>3</th>\n      <td>Dallas</td>\n      <td>8022</td>\n      <td>Dubai</td>\n    </tr>\n    <tr>\n      <th>4</th>\n      <td>Dallas</td>\n      <td>7914</td>\n      <td>Doha</td>\n    </tr>\n    <tr>\n      <th>5</th>\n      <td>Dallas</td>\n      <td>7332</td>\n      <td>Shanghai</td>\n    </tr>\n    <tr>\n      <th>6</th>\n      <td>Dallas</td>\n      <td>6951</td>\n      <td>Beijing</td>\n    </tr>\n    <tr>\n      <th>7</th>\n      <td>Dallas</td>\n      <td>6822</td>\n      <td>Seoul</td>\n    </tr>\n    <tr>\n      <th>8</th>\n      <td>Dallas</td>\n      <td>6410</td>\n      <td>Tokyo</td>\n    </tr>\n    <tr>\n      <th>9</th>\n      <td>Dallas</td>\n      <td>5597</td>\n      <td>Rome</td>\n    </tr>\n  </tbody>\n</table>\n</div>"
     },
     "execution_count": 36,
     "metadata": {},
     "output_type": "execute_result"
    }
   ],
   "source": [
    "gds.run_cypher('''\n",
    "    MATCH (a1:Airport)-[r:HAS_ROUTE]->(a2)\n",
    "    WHERE a1.iata = \"DFW\"\n",
    "    RETURN a1.city AS originCity, r.distance AS routeMiles, a2.city AS destCity\n",
    "    ORDER BY routeMiles DESC\n",
    "    LIMIT 10\n",
    "''')"
   ],
   "metadata": {
    "collapsed": false
   }
  },
  {
   "cell_type": "markdown",
   "source": [
    "## A More Complicated Match and Filter"
   ],
   "metadata": {
    "collapsed": false
   }
  },
  {
   "cell_type": "code",
   "execution_count": 37,
   "id": "chicken-strain",
   "metadata": {},
   "outputs": [
    {
     "data": {
      "text/plain": "  layoverAirport    layoverCity  totalMiles\n0            LAX    Los Angeles        8720\n1            IAH        Houston        8816\n2            HNL       Honolulu        8849\n3            SFO  San Francisco        8880\n4            YVR      Vancouver        9513",
      "text/html": "<div>\n<style scoped>\n    .dataframe tbody tr th:only-of-type {\n        vertical-align: middle;\n    }\n\n    .dataframe tbody tr th {\n        vertical-align: top;\n    }\n\n    .dataframe thead th {\n        text-align: right;\n    }\n</style>\n<table border=\"1\" class=\"dataframe\">\n  <thead>\n    <tr style=\"text-align: right;\">\n      <th></th>\n      <th>layoverAirport</th>\n      <th>layoverCity</th>\n      <th>totalMiles</th>\n    </tr>\n  </thead>\n  <tbody>\n    <tr>\n      <th>0</th>\n      <td>LAX</td>\n      <td>Los Angeles</td>\n      <td>8720</td>\n    </tr>\n    <tr>\n      <th>1</th>\n      <td>IAH</td>\n      <td>Houston</td>\n      <td>8816</td>\n    </tr>\n    <tr>\n      <th>2</th>\n      <td>HNL</td>\n      <td>Honolulu</td>\n      <td>8849</td>\n    </tr>\n    <tr>\n      <th>3</th>\n      <td>SFO</td>\n      <td>San Francisco</td>\n      <td>8880</td>\n    </tr>\n    <tr>\n      <th>4</th>\n      <td>YVR</td>\n      <td>Vancouver</td>\n      <td>9513</td>\n    </tr>\n  </tbody>\n</table>\n</div>"
     },
     "execution_count": 37,
     "metadata": {},
     "output_type": "execute_result"
    }
   ],
   "source": [
    "#Find flight plans from Dallas, USA to Sydney, AUS with exactly one layover and total route miles less than 10K\n",
    "gds.run_cypher('''\n",
    "    MATCH (a1:Airport {iata: \"DFW\"})-[r1:HAS_ROUTE]->(a2)-[r2:HAS_ROUTE]->(a3:Airport {iata: \"SYD\"})\n",
    "    WITH a2.iata AS layoverAirport, a2.city AS layoverCity, r1.distance + r2.distance AS totalMiles\n",
    "    WHERE totalMiles < 10000\n",
    "    RETURN layoverAirport, layoverCity, totalMiles\n",
    "    ORDER BY totalMiles\n",
    "''')"
   ]
  },
  {
   "cell_type": "markdown",
   "source": [
    "## K-Hop Patterns"
   ],
   "metadata": {
    "collapsed": false
   }
  },
  {
   "cell_type": "code",
   "execution_count": 38,
   "outputs": [
    {
     "data": {
      "text/plain": "    numberOfLayovers                                     citiesTraveled  \\\n0                  0                           [DFW-Dallas, SYD-Sydney]   \n1                  2  [DFW-Dallas, LAX-Los Angeles, NAN-Nadi, SYD-Sy...   \n2                  1          [DFW-Dallas, LAX-Los Angeles, SYD-Sydney]   \n3                  2  [DFW-Dallas, PSP-Palm Springs, LAX-Los Angeles...   \n4                  2  [DFW-Dallas, PHX-Phoenix, LAX-Los Angeles, SYD...   \n..               ...                                                ...   \n95                 2  [DFW-Dallas, FAT-Fresno, LAX-Los Angeles, SYD-...   \n96                 2  [DFW-Dallas, LCH-Lake Charles, IAH-Houston, SY...   \n97                 2  [DFW-Dallas, ICT-Wichita, LAX-Los Angeles, SYD...   \n98                 2  [DFW-Dallas, AUS-Austin, HNL-Honolulu, SYD-Syd...   \n99                 2  [DFW-Dallas, HDN-Hayden, LAX-Los Angeles, SYD-...   \n\n    totalMiles  \n0         8574  \n1         8720  \n2         8720  \n3         8721  \n4         8724  \n..         ...  \n95        9008  \n96        9013  \n97        9017  \n98        9018  \n99        9019  \n\n[100 rows x 3 columns]",
      "text/html": "<div>\n<style scoped>\n    .dataframe tbody tr th:only-of-type {\n        vertical-align: middle;\n    }\n\n    .dataframe tbody tr th {\n        vertical-align: top;\n    }\n\n    .dataframe thead th {\n        text-align: right;\n    }\n</style>\n<table border=\"1\" class=\"dataframe\">\n  <thead>\n    <tr style=\"text-align: right;\">\n      <th></th>\n      <th>numberOfLayovers</th>\n      <th>citiesTraveled</th>\n      <th>totalMiles</th>\n    </tr>\n  </thead>\n  <tbody>\n    <tr>\n      <th>0</th>\n      <td>0</td>\n      <td>[DFW-Dallas, SYD-Sydney]</td>\n      <td>8574</td>\n    </tr>\n    <tr>\n      <th>1</th>\n      <td>2</td>\n      <td>[DFW-Dallas, LAX-Los Angeles, NAN-Nadi, SYD-Sy...</td>\n      <td>8720</td>\n    </tr>\n    <tr>\n      <th>2</th>\n      <td>1</td>\n      <td>[DFW-Dallas, LAX-Los Angeles, SYD-Sydney]</td>\n      <td>8720</td>\n    </tr>\n    <tr>\n      <th>3</th>\n      <td>2</td>\n      <td>[DFW-Dallas, PSP-Palm Springs, LAX-Los Angeles...</td>\n      <td>8721</td>\n    </tr>\n    <tr>\n      <th>4</th>\n      <td>2</td>\n      <td>[DFW-Dallas, PHX-Phoenix, LAX-Los Angeles, SYD...</td>\n      <td>8724</td>\n    </tr>\n    <tr>\n      <th>...</th>\n      <td>...</td>\n      <td>...</td>\n      <td>...</td>\n    </tr>\n    <tr>\n      <th>95</th>\n      <td>2</td>\n      <td>[DFW-Dallas, FAT-Fresno, LAX-Los Angeles, SYD-...</td>\n      <td>9008</td>\n    </tr>\n    <tr>\n      <th>96</th>\n      <td>2</td>\n      <td>[DFW-Dallas, LCH-Lake Charles, IAH-Houston, SY...</td>\n      <td>9013</td>\n    </tr>\n    <tr>\n      <th>97</th>\n      <td>2</td>\n      <td>[DFW-Dallas, ICT-Wichita, LAX-Los Angeles, SYD...</td>\n      <td>9017</td>\n    </tr>\n    <tr>\n      <th>98</th>\n      <td>2</td>\n      <td>[DFW-Dallas, AUS-Austin, HNL-Honolulu, SYD-Syd...</td>\n      <td>9018</td>\n    </tr>\n    <tr>\n      <th>99</th>\n      <td>2</td>\n      <td>[DFW-Dallas, HDN-Hayden, LAX-Los Angeles, SYD-...</td>\n      <td>9019</td>\n    </tr>\n  </tbody>\n</table>\n<p>100 rows × 3 columns</p>\n</div>"
     },
     "execution_count": 38,
     "metadata": {},
     "output_type": "execute_result"
    }
   ],
   "source": [
    "#Find flight plans from Dallas, USA to Sydney with fewer than 3 layovers and rank by shortest total route distance\n",
    "gds.run_cypher('''\n",
    "    MATCH p=(a1:Airport {iata: \"DFW\"})-[:HAS_ROUTE*1..3]->(a3:Airport {iata: \"SYD\"})\n",
    "    RETURN size( nodes(p)) - 2 AS numberOfLayovers,\n",
    "        [n in nodes(p) |  n.iata + \"-\" + n.city] AS citiesTraveled,\n",
    "        reduce(d = 0, r IN relationships(p) | d + r.distance) AS totalMiles\n",
    "    ORDER BY totalMiles\n",
    "    LIMIT 100\n",
    "''')"
   ],
   "metadata": {
    "collapsed": false
   }
  },
  {
   "cell_type": "code",
   "execution_count": 39,
   "outputs": [
    {
     "data": {
      "text/plain": "    numberOfLayovers                                     citiesTraveled  \\\n0                  0                           [DFW-Dallas, SYD-Sydney]   \n1                  2  [DFW-Dallas, LAX-Los Angeles, NAN-Nadi, SYD-Sy...   \n2                  1          [DFW-Dallas, LAX-Los Angeles, SYD-Sydney]   \n3                  2  [DFW-Dallas, PSP-Palm Springs, LAX-Los Angeles...   \n4                  2  [DFW-Dallas, PHX-Phoenix, LAX-Los Angeles, SYD...   \n..               ...                                                ...   \n95                 2  [DFW-Dallas, FAT-Fresno, LAX-Los Angeles, SYD-...   \n96                 2  [DFW-Dallas, LCH-Lake Charles, IAH-Houston, SY...   \n97                 2  [DFW-Dallas, ICT-Wichita, LAX-Los Angeles, SYD...   \n98                 2  [DFW-Dallas, AUS-Austin, HNL-Honolulu, SYD-Syd...   \n99                 2  [DFW-Dallas, HDN-Hayden, LAX-Los Angeles, SYD-...   \n\n    totalMiles  \n0         8574  \n1         8720  \n2         8720  \n3         8721  \n4         8724  \n..         ...  \n95        9008  \n96        9013  \n97        9017  \n98        9018  \n99        9019  \n\n[100 rows x 3 columns]",
      "text/html": "<div>\n<style scoped>\n    .dataframe tbody tr th:only-of-type {\n        vertical-align: middle;\n    }\n\n    .dataframe tbody tr th {\n        vertical-align: top;\n    }\n\n    .dataframe thead th {\n        text-align: right;\n    }\n</style>\n<table border=\"1\" class=\"dataframe\">\n  <thead>\n    <tr style=\"text-align: right;\">\n      <th></th>\n      <th>numberOfLayovers</th>\n      <th>citiesTraveled</th>\n      <th>totalMiles</th>\n    </tr>\n  </thead>\n  <tbody>\n    <tr>\n      <th>0</th>\n      <td>0</td>\n      <td>[DFW-Dallas, SYD-Sydney]</td>\n      <td>8574</td>\n    </tr>\n    <tr>\n      <th>1</th>\n      <td>2</td>\n      <td>[DFW-Dallas, LAX-Los Angeles, NAN-Nadi, SYD-Sy...</td>\n      <td>8720</td>\n    </tr>\n    <tr>\n      <th>2</th>\n      <td>1</td>\n      <td>[DFW-Dallas, LAX-Los Angeles, SYD-Sydney]</td>\n      <td>8720</td>\n    </tr>\n    <tr>\n      <th>3</th>\n      <td>2</td>\n      <td>[DFW-Dallas, PSP-Palm Springs, LAX-Los Angeles...</td>\n      <td>8721</td>\n    </tr>\n    <tr>\n      <th>4</th>\n      <td>2</td>\n      <td>[DFW-Dallas, PHX-Phoenix, LAX-Los Angeles, SYD...</td>\n      <td>8724</td>\n    </tr>\n    <tr>\n      <th>...</th>\n      <td>...</td>\n      <td>...</td>\n      <td>...</td>\n    </tr>\n    <tr>\n      <th>95</th>\n      <td>2</td>\n      <td>[DFW-Dallas, FAT-Fresno, LAX-Los Angeles, SYD-...</td>\n      <td>9008</td>\n    </tr>\n    <tr>\n      <th>96</th>\n      <td>2</td>\n      <td>[DFW-Dallas, LCH-Lake Charles, IAH-Houston, SY...</td>\n      <td>9013</td>\n    </tr>\n    <tr>\n      <th>97</th>\n      <td>2</td>\n      <td>[DFW-Dallas, ICT-Wichita, LAX-Los Angeles, SYD...</td>\n      <td>9017</td>\n    </tr>\n    <tr>\n      <th>98</th>\n      <td>2</td>\n      <td>[DFW-Dallas, AUS-Austin, HNL-Honolulu, SYD-Syd...</td>\n      <td>9018</td>\n    </tr>\n    <tr>\n      <th>99</th>\n      <td>2</td>\n      <td>[DFW-Dallas, HDN-Hayden, LAX-Los Angeles, SYD-...</td>\n      <td>9019</td>\n    </tr>\n  </tbody>\n</table>\n<p>100 rows × 3 columns</p>\n</div>"
     },
     "execution_count": 39,
     "metadata": {},
     "output_type": "execute_result"
    }
   ],
   "source": [
    "#Same as above but with query parameters\n",
    "gds.run_cypher('''\n",
    "    MATCH p=(a1:Airport {iata: $originIata})-[:HAS_ROUTE*1..3]->(a3:Airport {iata: $destIata})\n",
    "    RETURN size( nodes(p)) - 2 AS numberOfLayovers,\n",
    "        [n in nodes(p) |  n.iata + \"-\" + n.city] AS citiesTraveled,\n",
    "        reduce(d = 0, r IN relationships(p) | d + r.distance) AS totalMiles\n",
    "    ORDER BY totalMiles\n",
    "    LIMIT 100\n",
    "''', params= {\n",
    "    'originIata': 'DFW',\n",
    "    'destIata': 'SYD',\n",
    "    'maxPathLength': 3\n",
    "})"
   ],
   "metadata": {
    "collapsed": false
   }
  }
 ],
 "metadata": {
  "kernelspec": {
   "display_name": "Python 3",
   "language": "python",
   "name": "python3"
  },
  "language_info": {
   "codemirror_mode": {
    "name": "ipython",
    "version": 3
   },
   "file_extension": ".py",
   "mimetype": "text/x-python",
   "name": "python",
   "nbconvert_exporter": "python",
   "pygments_lexer": "ipython3",
   "version": "3.8.10"
  }
 },
 "nbformat": 4,
 "nbformat_minor": 5
}

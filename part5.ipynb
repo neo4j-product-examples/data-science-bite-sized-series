{
 "cells": [
  {
   "cell_type": "code",
   "execution_count": 1,
   "outputs": [],
   "source": [
    "#run this line if you need to re-install graph data science in a fresh environment\n",
    "#!pip install graphdatascience"
   ],
   "metadata": {
    "collapsed": false
   }
  },
  {
   "cell_type": "code",
   "execution_count": 2,
   "outputs": [],
   "source": [
    "from graphdatascience import GraphDataScience"
   ],
   "metadata": {
    "collapsed": false
   }
  },
  {
   "cell_type": "code",
   "execution_count": 3,
   "id": "prospective-replica",
   "metadata": {},
   "outputs": [],
   "source": [
    "gds = GraphDataScience('bolt://3.86.239.25:7687', auth=('neo4j', 'canisters-amplifiers-bets'))"
   ]
  },
  {
   "cell_type": "markdown",
   "source": [
    "## Using Louvain Community Detection"
   ],
   "metadata": {
    "collapsed": false
   }
  },
  {
   "cell_type": "code",
   "execution_count": 4,
   "outputs": [
    {
     "data": {
      "text/plain": "nodeProjection            {'Airport': {'label': 'Airport', 'properties':...\nrelationshipProjection    {'HAS_ROUTE': {'orientation': 'NATURAL', 'aggr...\ngraphName                                                              proj\nnodeCount                                                              3503\nrelationshipCount                                                     46389\nprojectMillis                                                            21\nName: 0, dtype: object"
     },
     "execution_count": 4,
     "metadata": {},
     "output_type": "execute_result"
    }
   ],
   "source": [
    "# basic homogeneous directed projection\n",
    "g, _  = gds.graph.project('proj', 'Airport', 'HAS_ROUTE')\n",
    "_"
   ],
   "metadata": {
    "collapsed": false
   }
  },
  {
   "cell_type": "code",
   "execution_count": 5,
   "outputs": [
    {
     "data": {
      "text/plain": "requiredMemory                                  [224 KiB ... 1701 KiB]\ntreeView             Memory Estimation: [224 KiB ... 1701 KiB]\\n|--...\nmapView              {'components': [{'components': [{'memoryUsage'...\nbytesMin                                                        229921\nbytesMax                                                       1742472\nnodeCount                                                         3503\nrelationshipCount                                                46389\nheapPercentageMin                                                  0.1\nheapPercentageMax                                                  0.1\nName: 0, dtype: object"
     },
     "execution_count": 5,
     "metadata": {},
     "output_type": "execute_result"
    }
   ],
   "source": [
    "# estimate resources needed\n",
    "gds.louvain.stats.estimate(g)"
   ],
   "metadata": {
    "collapsed": false
   }
  },
  {
   "cell_type": "code",
   "execution_count": 6,
   "outputs": [
    {
     "data": {
      "text/plain": "Louvain:   0%|          | 0/100 [00:00<?, ?%/s]",
      "application/vnd.jupyter.widget-view+json": {
       "version_major": 2,
       "version_minor": 0,
       "model_id": "69c1b135e02f4b3388ab57bdc9c4a7c6"
      }
     },
     "metadata": {},
     "output_type": "display_data"
    },
    {
     "data": {
      "text/plain": "modularity                                                        0.557322\nmodularities             [0.5236293616663739, 0.5436734881801065, 0.547...\nranLevels                                                               10\ncommunityCount                                                        1094\ncommunityDistribution    {'p99': 13, 'min': 1, 'max': 697, 'mean': 3.20...\npostProcessingMillis                                                     3\npreProcessingMillis                                                      0\ncomputeMillis                                                         4887\nconfiguration            {'jobId': 'f2c7df0a-3ed9-403d-ba70-8f51779e9b9...\nName: 0, dtype: object"
     },
     "execution_count": 6,
     "metadata": {},
     "output_type": "execute_result"
    }
   ],
   "source": [
    "# run in stats mode to see overall statistics\n",
    "gds.louvain.stats(g)"
   ],
   "metadata": {
    "collapsed": false
   }
  },
  {
   "cell_type": "code",
   "execution_count": 7,
   "outputs": [
    {
     "data": {
      "text/plain": "Louvain:   0%|          | 0/100 [00:00<?, ?%/s]",
      "application/vnd.jupyter.widget-view+json": {
       "version_major": 2,
       "version_minor": 0,
       "model_id": "f9db014e111f414ca624581bc3751da1"
      }
     },
     "metadata": {},
     "output_type": "display_data"
    },
    {
     "data": {
      "text/plain": "      nodeId  communityId\n0       8627         3321\n1       8628         3321\n2       8629         3321\n3       8630         3321\n4       8631         3321\n...      ...          ...\n3498   12125         3498\n3499   12126         3499\n3500   12127         3500\n3501   12128         3501\n3502   12129         3307\n\n[3503 rows x 2 columns]",
      "text/html": "<div>\n<style scoped>\n    .dataframe tbody tr th:only-of-type {\n        vertical-align: middle;\n    }\n\n    .dataframe tbody tr th {\n        vertical-align: top;\n    }\n\n    .dataframe thead th {\n        text-align: right;\n    }\n</style>\n<table border=\"1\" class=\"dataframe\">\n  <thead>\n    <tr style=\"text-align: right;\">\n      <th></th>\n      <th>nodeId</th>\n      <th>communityId</th>\n    </tr>\n  </thead>\n  <tbody>\n    <tr>\n      <th>0</th>\n      <td>8627</td>\n      <td>3321</td>\n    </tr>\n    <tr>\n      <th>1</th>\n      <td>8628</td>\n      <td>3321</td>\n    </tr>\n    <tr>\n      <th>2</th>\n      <td>8629</td>\n      <td>3321</td>\n    </tr>\n    <tr>\n      <th>3</th>\n      <td>8630</td>\n      <td>3321</td>\n    </tr>\n    <tr>\n      <th>4</th>\n      <td>8631</td>\n      <td>3321</td>\n    </tr>\n    <tr>\n      <th>...</th>\n      <td>...</td>\n      <td>...</td>\n    </tr>\n    <tr>\n      <th>3498</th>\n      <td>12125</td>\n      <td>3498</td>\n    </tr>\n    <tr>\n      <th>3499</th>\n      <td>12126</td>\n      <td>3499</td>\n    </tr>\n    <tr>\n      <th>3500</th>\n      <td>12127</td>\n      <td>3500</td>\n    </tr>\n    <tr>\n      <th>3501</th>\n      <td>12128</td>\n      <td>3501</td>\n    </tr>\n    <tr>\n      <th>3502</th>\n      <td>12129</td>\n      <td>3307</td>\n    </tr>\n  </tbody>\n</table>\n<p>3503 rows × 2 columns</p>\n</div>"
     },
     "execution_count": 7,
     "metadata": {},
     "output_type": "execute_result"
    }
   ],
   "source": [
    "# stream community ids\n",
    "community_df = gds.louvain.stream(g).drop(columns='intermediateCommunityIds')\n",
    "community_df"
   ],
   "metadata": {
    "collapsed": false
   }
  },
  {
   "cell_type": "code",
   "execution_count": 8,
   "outputs": [
    {
     "data": {
      "text/plain": "             nodeId\ncommunityId        \n3321            699\n3307            524\n2265            382\n2838            252\n2927            187\n...             ...\n2670              1\n2671              1\n2672              1\n2673              1\n3501              1\n\n[1089 rows x 1 columns]",
      "text/html": "<div>\n<style scoped>\n    .dataframe tbody tr th:only-of-type {\n        vertical-align: middle;\n    }\n\n    .dataframe tbody tr th {\n        vertical-align: top;\n    }\n\n    .dataframe thead th {\n        text-align: right;\n    }\n</style>\n<table border=\"1\" class=\"dataframe\">\n  <thead>\n    <tr style=\"text-align: right;\">\n      <th></th>\n      <th>nodeId</th>\n    </tr>\n    <tr>\n      <th>communityId</th>\n      <th></th>\n    </tr>\n  </thead>\n  <tbody>\n    <tr>\n      <th>3321</th>\n      <td>699</td>\n    </tr>\n    <tr>\n      <th>3307</th>\n      <td>524</td>\n    </tr>\n    <tr>\n      <th>2265</th>\n      <td>382</td>\n    </tr>\n    <tr>\n      <th>2838</th>\n      <td>252</td>\n    </tr>\n    <tr>\n      <th>2927</th>\n      <td>187</td>\n    </tr>\n    <tr>\n      <th>...</th>\n      <td>...</td>\n    </tr>\n    <tr>\n      <th>2670</th>\n      <td>1</td>\n    </tr>\n    <tr>\n      <th>2671</th>\n      <td>1</td>\n    </tr>\n    <tr>\n      <th>2672</th>\n      <td>1</td>\n    </tr>\n    <tr>\n      <th>2673</th>\n      <td>1</td>\n    </tr>\n    <tr>\n      <th>3501</th>\n      <td>1</td>\n    </tr>\n  </tbody>\n</table>\n<p>1089 rows × 1 columns</p>\n</div>"
     },
     "execution_count": 8,
     "metadata": {},
     "output_type": "execute_result"
    }
   ],
   "source": [
    "community_df.groupby('communityId').count().sort_values('nodeId', ascending=False)"
   ],
   "metadata": {
    "collapsed": false
   }
  },
  {
   "cell_type": "code",
   "execution_count": 9,
   "outputs": [
    {
     "data": {
      "text/plain": "Louvain:   0%|          | 0/100 [00:00<?, ?%/s]",
      "application/vnd.jupyter.widget-view+json": {
       "version_major": 2,
       "version_minor": 0,
       "model_id": "c34c2549628a40bf804196a3f50bac27"
      }
     },
     "metadata": {},
     "output_type": "display_data"
    },
    {
     "data": {
      "text/plain": "writeMillis                                                           1491\nnodePropertiesWritten                                                 3503\nmodularity                                                        0.553671\nmodularities             [0.5166659771258485, 0.5393207144245495, 0.543...\nranLevels                                                               10\ncommunityCount                                                        1093\ncommunityDistribution    {'p99': 13, 'min': 1, 'max': 695, 'mean': 3.20...\npostProcessingMillis                                                     3\npreProcessingMillis                                                      0\ncomputeMillis                                                         4400\nconfiguration            {'maxIterations': 10, 'writeConcurrency': 4, '...\nName: 0, dtype: object"
     },
     "execution_count": 9,
     "metadata": {},
     "output_type": "execute_result"
    }
   ],
   "source": [
    "# write louvain communities back to database\n",
    "gds.louvain.write(g, writeProperty='communityId')"
   ],
   "metadata": {
    "collapsed": false
   }
  },
  {
   "cell_type": "code",
   "execution_count": 10,
   "outputs": [
    {
     "data": {
      "text/plain": "      communityId iata           city  \\\n0             199  TXL         Berlin   \n1             472  SXF         Berlin   \n2             941  ILG     Wilmington   \n3            1007  TWB      Toowoomba   \n4            1763  HOR          Horta   \n...           ...  ...            ...   \n3498         3497  FAC         Faaite   \n3499         3498  RRR         Raroia   \n3500         3499  PKP      Puka Puka   \n3501         3500  NAU  Napuka Island   \n3502         3501  FGU       Fangatau   \n\n                                           description  \n0         Berlin, Tegel International Airport *Closed*  \n1     Berlin-Schönefeld International Airport *Closed*  \n2                                   New Castle Airport  \n3                                    Toowoomba Airport  \n4                                        Horta Airport  \n...                                                ...  \n3498                                    Faaite Airport  \n3499                                    Raroia Airport  \n3500                                 Puka Puka Airport  \n3501                             Napuka Island Airport  \n3502                                  Fangatau Airport  \n\n[3503 rows x 4 columns]",
      "text/html": "<div>\n<style scoped>\n    .dataframe tbody tr th:only-of-type {\n        vertical-align: middle;\n    }\n\n    .dataframe tbody tr th {\n        vertical-align: top;\n    }\n\n    .dataframe thead th {\n        text-align: right;\n    }\n</style>\n<table border=\"1\" class=\"dataframe\">\n  <thead>\n    <tr style=\"text-align: right;\">\n      <th></th>\n      <th>communityId</th>\n      <th>iata</th>\n      <th>city</th>\n      <th>description</th>\n    </tr>\n  </thead>\n  <tbody>\n    <tr>\n      <th>0</th>\n      <td>199</td>\n      <td>TXL</td>\n      <td>Berlin</td>\n      <td>Berlin, Tegel International Airport *Closed*</td>\n    </tr>\n    <tr>\n      <th>1</th>\n      <td>472</td>\n      <td>SXF</td>\n      <td>Berlin</td>\n      <td>Berlin-Schönefeld International Airport *Closed*</td>\n    </tr>\n    <tr>\n      <th>2</th>\n      <td>941</td>\n      <td>ILG</td>\n      <td>Wilmington</td>\n      <td>New Castle Airport</td>\n    </tr>\n    <tr>\n      <th>3</th>\n      <td>1007</td>\n      <td>TWB</td>\n      <td>Toowoomba</td>\n      <td>Toowoomba Airport</td>\n    </tr>\n    <tr>\n      <th>4</th>\n      <td>1763</td>\n      <td>HOR</td>\n      <td>Horta</td>\n      <td>Horta Airport</td>\n    </tr>\n    <tr>\n      <th>...</th>\n      <td>...</td>\n      <td>...</td>\n      <td>...</td>\n      <td>...</td>\n    </tr>\n    <tr>\n      <th>3498</th>\n      <td>3497</td>\n      <td>FAC</td>\n      <td>Faaite</td>\n      <td>Faaite Airport</td>\n    </tr>\n    <tr>\n      <th>3499</th>\n      <td>3498</td>\n      <td>RRR</td>\n      <td>Raroia</td>\n      <td>Raroia Airport</td>\n    </tr>\n    <tr>\n      <th>3500</th>\n      <td>3499</td>\n      <td>PKP</td>\n      <td>Puka Puka</td>\n      <td>Puka Puka Airport</td>\n    </tr>\n    <tr>\n      <th>3501</th>\n      <td>3500</td>\n      <td>NAU</td>\n      <td>Napuka Island</td>\n      <td>Napuka Island Airport</td>\n    </tr>\n    <tr>\n      <th>3502</th>\n      <td>3501</td>\n      <td>FGU</td>\n      <td>Fangatau</td>\n      <td>Fangatau Airport</td>\n    </tr>\n  </tbody>\n</table>\n<p>3503 rows × 4 columns</p>\n</div>"
     },
     "execution_count": 10,
     "metadata": {},
     "output_type": "execute_result"
    }
   ],
   "source": [
    "# read community ids with other airport node properties\n",
    "gds.run_cypher('''\n",
    "    MATCH(a:Airport)\n",
    "    RETURN a.communityId AS communityId, a.iata AS iata, a.city AS city,\n",
    "        a.descr AS description\n",
    "    ORDER BY communityId\n",
    "''')"
   ],
   "metadata": {
    "collapsed": false
   }
  },
  {
   "cell_type": "markdown",
   "source": [
    "## Other Community Detection Algorithms\n",
    "\n",
    "Neo4j Graph Data Science includes many other community detection algorithms.  Below are just some of the others, full list can be found in the [documentation](https://neo4j.com/docs/graph-data-science/current/algorithms/wcc/).\n",
    "\n",
    "- __Label Propagation__: Similar intent as Louvain. Fast algorithm that parallelizes well. Great for large graphs.\n",
    "- __Weakly Connected Components (WCC)__: Partitions the graph into sets of connected nodes such that\n",
    "    - Every node is reachable from any other node in the same set\n",
    "    - No path exists between nodes from different sets"
   ],
   "metadata": {
    "collapsed": false
   }
  },
  {
   "cell_type": "markdown",
   "source": [
    "# Cleanup"
   ],
   "metadata": {
    "collapsed": false
   }
  },
  {
   "cell_type": "code",
   "execution_count": 11,
   "outputs": [
    {
     "data": {
      "text/plain": "graphName                                                         proj\ndatabase                                                         neo4j\nmemoryUsage                                                           \nsizeInBytes                                                         -1\nnodeCount                                                         3503\nrelationshipCount                                                46389\nconfiguration        {'relationshipProjection': {'HAS_ROUTE': {'ori...\ndensity                                                       0.003781\ncreationTime                       2022-11-15T15:13:06.986981000+00:00\nmodificationTime                   2022-11-15T15:13:07.006719000+00:00\nschema               {'graphProperties': {}, 'relationships': {'HAS...\nName: 0, dtype: object"
     },
     "execution_count": 11,
     "metadata": {},
     "output_type": "execute_result"
    }
   ],
   "source": [
    "# drop projection\n",
    "g.drop()"
   ],
   "metadata": {
    "collapsed": false
   }
  },
  {
   "cell_type": "code",
   "execution_count": 12,
   "outputs": [
    {
     "data": {
      "text/plain": "Empty DataFrame\nColumns: []\nIndex: []",
      "text/html": "<div>\n<style scoped>\n    .dataframe tbody tr th:only-of-type {\n        vertical-align: middle;\n    }\n\n    .dataframe tbody tr th {\n        vertical-align: top;\n    }\n\n    .dataframe thead th {\n        text-align: right;\n    }\n</style>\n<table border=\"1\" class=\"dataframe\">\n  <thead>\n    <tr style=\"text-align: right;\">\n      <th></th>\n    </tr>\n  </thead>\n  <tbody>\n  </tbody>\n</table>\n</div>"
     },
     "execution_count": 12,
     "metadata": {},
     "output_type": "execute_result"
    }
   ],
   "source": [
    "# remove community id property from database\n",
    "gds.run_cypher('MATCH(a:Airport) REMOVE a.communityId')"
   ],
   "metadata": {
    "collapsed": false
   }
  }
 ],
 "metadata": {
  "kernelspec": {
   "display_name": "Python 3",
   "language": "python",
   "name": "python3"
  },
  "language_info": {
   "codemirror_mode": {
    "name": "ipython",
    "version": 3
   },
   "file_extension": ".py",
   "mimetype": "text/x-python",
   "name": "python",
   "nbconvert_exporter": "python",
   "pygments_lexer": "ipython3",
   "version": "3.8.10"
  }
 },
 "nbformat": 4,
 "nbformat_minor": 5
}

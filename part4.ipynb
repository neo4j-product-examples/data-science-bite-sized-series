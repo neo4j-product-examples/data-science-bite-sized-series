{
 "cells": [
  {
   "cell_type": "code",
   "execution_count": 1,
   "outputs": [],
   "source": [
    "#run this line if you need to re-install graph data science in a fresh environment\n",
    "#!pip install graphdatascience"
   ],
   "metadata": {
    "collapsed": false
   }
  },
  {
   "cell_type": "code",
   "execution_count": 2,
   "outputs": [],
   "source": [
    "from graphdatascience import GraphDataScience"
   ],
   "metadata": {
    "collapsed": false
   }
  },
  {
   "cell_type": "code",
   "execution_count": 3,
   "id": "prospective-replica",
   "metadata": {},
   "outputs": [],
   "source": [
    "gds = GraphDataScience('bolt://3.86.239.25:7687', auth=('neo4j', 'canisters-amplifiers-bets'))"
   ]
  },
  {
   "cell_type": "markdown",
   "source": [
    "## Native Projection Basics"
   ],
   "metadata": {
    "collapsed": false
   }
  },
  {
   "cell_type": "code",
   "execution_count": 4,
   "outputs": [],
   "source": [
    "# basic homogeneous directed projection\n",
    "g, _  = gds.graph.project('directedProj', 'Airport', 'HAS_ROUTE')"
   ],
   "metadata": {
    "collapsed": false
   }
  },
  {
   "cell_type": "code",
   "execution_count": 5,
   "outputs": [
    {
     "data": {
      "text/plain": "nodeProjection            {'Airport': {'label': 'Airport', 'properties':...\nrelationshipProjection    {'HAS_ROUTE': {'orientation': 'NATURAL', 'aggr...\ngraphName                                                      directedProj\nnodeCount                                                              3503\nrelationshipCount                                                     46389\nprojectMillis                                                           136\nName: 0, dtype: object"
     },
     "execution_count": 5,
     "metadata": {},
     "output_type": "execute_result"
    }
   ],
   "source": [
    "# view output\n",
    "_"
   ],
   "metadata": {
    "collapsed": false
   }
  },
  {
   "cell_type": "code",
   "execution_count": 6,
   "outputs": [
    {
     "data": {
      "text/plain": "nodeProjection            {'Airport': {'label': 'Airport', 'properties':...\nrelationshipProjection    {'HAS_ROUTE': {'orientation': 'UNDIRECTED', 'a...\ngraphName                                                    undirectedProj\nnodeCount                                                              3503\nrelationshipCount                                                     92778\nprojectMillis                                                           272\nName: 0, dtype: object"
     },
     "execution_count": 6,
     "metadata": {},
     "output_type": "execute_result"
    }
   ],
   "source": [
    "# undirected homogeneous projection\n",
    "g, _  = gds.graph.project('undirectedProj', 'Airport',\n",
    "                          {'HAS_ROUTE': {'orientation': 'UNDIRECTED'}})\n",
    "_"
   ],
   "metadata": {
    "collapsed": false
   }
  },
  {
   "cell_type": "code",
   "execution_count": 7,
   "outputs": [
    {
     "data": {
      "text/plain": "nodeProjection            {'Airport': {'label': 'Airport', 'properties':...\nrelationshipProjection    {'HAS_ROUTE': {'orientation': 'NATURAL', 'aggr...\ngraphName                                                      weightedProj\nnodeCount                                                              3503\nrelationshipCount                                                     46389\nprojectMillis                                                           208\nName: 0, dtype: object"
     },
     "execution_count": 7,
     "metadata": {},
     "output_type": "execute_result"
    }
   ],
   "source": [
    "# create directed projection with relationship weights\n",
    "g, _  = gds.graph.project('weightedProj', 'Airport', 'HAS_ROUTE',\n",
    "                          relationshipProperties=['distance'])\n",
    "_"
   ],
   "metadata": {
    "collapsed": false
   }
  },
  {
   "cell_type": "code",
   "execution_count": 8,
   "outputs": [
    {
     "data": {
      "text/plain": "nodeProjection            {'Airport': {'label': 'Airport', 'properties':...\nrelationshipProjection    {'HAS_ROUTE': {'orientation': 'NATURAL', 'aggr...\ngraphName                                                 heterogeneousProj\nnodeCount                                                              6862\nrelationshipCount                                                     53395\nprojectMillis                                                           418\nName: 0, dtype: object"
     },
     "execution_count": 8,
     "metadata": {},
     "output_type": "execute_result"
    }
   ],
   "source": [
    "# create projection with multiple nodes and relationships\n",
    "g, _  = gds.graph.project('heterogeneousProj', ['Airport', 'City'],\n",
    "    {\n",
    "        'HAS_ROUTE': {\n",
    "            'orientation': 'NATURAL',\n",
    "            'properties': 'distance'\n",
    "        },\n",
    "        'IN_CITY': {\n",
    "            'orientation': 'UNDIRECTED',\n",
    "        },\n",
    "    })\n",
    "_"
   ],
   "metadata": {
    "collapsed": false
   }
  },
  {
   "cell_type": "markdown",
   "source": [
    "## Other Native Projection Features\n",
    "\n",
    "We covered the basics here but there are actually many extended syntax and configuration options available for native projections\n",
    "\n",
    "__Documentation__: [https://neo4j.com/docs/graph-data-science/current/management-ops/projections/graph-project/](https://neo4j.com/docs/graph-data-science/current/management-ops/projections/graph-project/)\n",
    "\n",
    "Other capabilities include:\n",
    "- reverse relationship orientation\n",
    "- node properties\n",
    "- parallel relationship aggregations\n",
    "\n",
    " In general, if you are trying to do something with native projection and can’t quite express the thing you want, check the docs to see if there are additional configurations or syntax extensions to support."
   ],
   "metadata": {
    "collapsed": false
   }
  },
  {
   "cell_type": "markdown",
   "source": [
    "# Cleanup"
   ],
   "metadata": {
    "collapsed": false
   }
  },
  {
   "cell_type": "code",
   "execution_count": 9,
   "outputs": [
    {
     "data": {
      "text/plain": "graphName                                            heterogeneousProj\ndatabase                                                         neo4j\nmemoryUsage                                                           \nsizeInBytes                                                         -1\nnodeCount                                                         6862\nrelationshipCount                                                53395\nconfiguration        {'relationshipProjection': {'HAS_ROUTE': {'ori...\ndensity                                                       0.001134\ncreationTime                       2022-11-15T14:11:00.190727000+00:00\nmodificationTime                   2022-11-15T14:11:00.628419000+00:00\nschema               {'graphProperties': {}, 'relationships': {'HAS...\nName: 0, dtype: object"
     },
     "execution_count": 9,
     "metadata": {},
     "output_type": "execute_result"
    }
   ],
   "source": [
    "# drop projection with current reference\n",
    "g.drop()"
   ],
   "metadata": {
    "collapsed": false
   }
  },
  {
   "cell_type": "code",
   "execution_count": 10,
   "outputs": [
    {
     "data": {
      "text/plain": "                                  degreeDistribution       graphName database  \\\n0  {'p99': 175, 'min': 0, 'max': 307, 'mean': 13....    weightedProj    neo4j   \n1  {'p99': 334, 'min': 0, 'max': 610, 'mean': 26....  undirectedProj    neo4j   \n2  {'p99': 175, 'min': 0, 'max': 307, 'mean': 13....    directedProj    neo4j   \n\n  memoryUsage  sizeInBytes  nodeCount  relationshipCount  \\\n0    7043 KiB      7212552       3503              46389   \n1    1127 KiB      1154104       3503              92778   \n2     871 KiB       891936       3503              46389   \n\n                                       configuration   density  \\\n0                                                 {}  0.003781   \n1  {'relationshipProjection': {'HAS_ROUTE': {'ori...  0.007563   \n2  {'relationshipProjection': {'HAS_ROUTE': {'ori...  0.003781   \n\n                          creationTime                     modificationTime  \\\n0  2022-11-15T14:10:59.930340000+00:00  2022-11-15T14:11:00.139571000+00:00   \n1  2022-11-15T14:10:59.560573000+00:00  2022-11-15T14:10:59.826917000+00:00   \n2  2022-11-15T14:10:59.376864000+00:00  2022-11-15T14:10:59.450023000+00:00   \n\n                                              schema  \n0  {'graphProperties': {}, 'relationships': {'HAS...  \n1  {'graphProperties': {}, 'relationships': {'HAS...  \n2  {'graphProperties': {}, 'relationships': {'HAS...  ",
      "text/html": "<div>\n<style scoped>\n    .dataframe tbody tr th:only-of-type {\n        vertical-align: middle;\n    }\n\n    .dataframe tbody tr th {\n        vertical-align: top;\n    }\n\n    .dataframe thead th {\n        text-align: right;\n    }\n</style>\n<table border=\"1\" class=\"dataframe\">\n  <thead>\n    <tr style=\"text-align: right;\">\n      <th></th>\n      <th>degreeDistribution</th>\n      <th>graphName</th>\n      <th>database</th>\n      <th>memoryUsage</th>\n      <th>sizeInBytes</th>\n      <th>nodeCount</th>\n      <th>relationshipCount</th>\n      <th>configuration</th>\n      <th>density</th>\n      <th>creationTime</th>\n      <th>modificationTime</th>\n      <th>schema</th>\n    </tr>\n  </thead>\n  <tbody>\n    <tr>\n      <th>0</th>\n      <td>{'p99': 175, 'min': 0, 'max': 307, 'mean': 13....</td>\n      <td>weightedProj</td>\n      <td>neo4j</td>\n      <td>7043 KiB</td>\n      <td>7212552</td>\n      <td>3503</td>\n      <td>46389</td>\n      <td>{}</td>\n      <td>0.003781</td>\n      <td>2022-11-15T14:10:59.930340000+00:00</td>\n      <td>2022-11-15T14:11:00.139571000+00:00</td>\n      <td>{'graphProperties': {}, 'relationships': {'HAS...</td>\n    </tr>\n    <tr>\n      <th>1</th>\n      <td>{'p99': 334, 'min': 0, 'max': 610, 'mean': 26....</td>\n      <td>undirectedProj</td>\n      <td>neo4j</td>\n      <td>1127 KiB</td>\n      <td>1154104</td>\n      <td>3503</td>\n      <td>92778</td>\n      <td>{'relationshipProjection': {'HAS_ROUTE': {'ori...</td>\n      <td>0.007563</td>\n      <td>2022-11-15T14:10:59.560573000+00:00</td>\n      <td>2022-11-15T14:10:59.826917000+00:00</td>\n      <td>{'graphProperties': {}, 'relationships': {'HAS...</td>\n    </tr>\n    <tr>\n      <th>2</th>\n      <td>{'p99': 175, 'min': 0, 'max': 307, 'mean': 13....</td>\n      <td>directedProj</td>\n      <td>neo4j</td>\n      <td>871 KiB</td>\n      <td>891936</td>\n      <td>3503</td>\n      <td>46389</td>\n      <td>{'relationshipProjection': {'HAS_ROUTE': {'ori...</td>\n      <td>0.003781</td>\n      <td>2022-11-15T14:10:59.376864000+00:00</td>\n      <td>2022-11-15T14:10:59.450023000+00:00</td>\n      <td>{'graphProperties': {}, 'relationships': {'HAS...</td>\n    </tr>\n  </tbody>\n</table>\n</div>"
     },
     "execution_count": 10,
     "metadata": {},
     "output_type": "execute_result"
    }
   ],
   "source": [
    "# get all projected graphs on the server that we created\n",
    "graphs = gds.graph.list()\n",
    "graphs"
   ],
   "metadata": {
    "collapsed": false
   }
  },
  {
   "cell_type": "code",
   "execution_count": 11,
   "outputs": [],
   "source": [
    "# drop all graph projections\n",
    "g_names = graphs.graphName.tolist()\n",
    "for g_name in g_names:\n",
    "    g = gds.graph.get(g_name)\n",
    "    gds.graph.drop(g)"
   ],
   "metadata": {
    "collapsed": false
   }
  },
  {
   "cell_type": "code",
   "execution_count": 12,
   "outputs": [
    {
     "data": {
      "text/plain": "Empty DataFrame\nColumns: [degreeDistribution, graphName, database, memoryUsage, sizeInBytes, nodeCount, relationshipCount, configuration, density, creationTime, modificationTime, schema]\nIndex: []",
      "text/html": "<div>\n<style scoped>\n    .dataframe tbody tr th:only-of-type {\n        vertical-align: middle;\n    }\n\n    .dataframe tbody tr th {\n        vertical-align: top;\n    }\n\n    .dataframe thead th {\n        text-align: right;\n    }\n</style>\n<table border=\"1\" class=\"dataframe\">\n  <thead>\n    <tr style=\"text-align: right;\">\n      <th></th>\n      <th>degreeDistribution</th>\n      <th>graphName</th>\n      <th>database</th>\n      <th>memoryUsage</th>\n      <th>sizeInBytes</th>\n      <th>nodeCount</th>\n      <th>relationshipCount</th>\n      <th>configuration</th>\n      <th>density</th>\n      <th>creationTime</th>\n      <th>modificationTime</th>\n      <th>schema</th>\n    </tr>\n  </thead>\n  <tbody>\n  </tbody>\n</table>\n</div>"
     },
     "execution_count": 12,
     "metadata": {},
     "output_type": "execute_result"
    }
   ],
   "source": [
    "gds.graph.list()"
   ],
   "metadata": {
    "collapsed": false
   }
  }
 ],
 "metadata": {
  "kernelspec": {
   "display_name": "Python 3",
   "language": "python",
   "name": "python3"
  },
  "language_info": {
   "codemirror_mode": {
    "name": "ipython",
    "version": 3
   },
   "file_extension": ".py",
   "mimetype": "text/x-python",
   "name": "python",
   "nbconvert_exporter": "python",
   "pygments_lexer": "ipython3",
   "version": "3.8.10"
  }
 },
 "nbformat": 4,
 "nbformat_minor": 5
}
